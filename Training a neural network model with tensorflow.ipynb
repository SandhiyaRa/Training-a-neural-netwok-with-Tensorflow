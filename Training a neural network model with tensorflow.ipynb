{
 "cells": [
  {
   "cell_type": "markdown",
   "id": "f3e4d525",
   "metadata": {},
   "source": [
    "# Training a neural network model with tensorflow\n"
   ]
  },
  {
   "cell_type": "code",
   "execution_count": 50,
   "id": "f1d0da2a",
   "metadata": {},
   "outputs": [
    {
     "name": "stdout",
     "output_type": "stream",
     "text": [
      "-40.0 degrees Celsius = -40.0 degrees Fahrenheit\n",
      "-10.0 degrees Celsius = 14.0 degrees Fahrenheit\n",
      "0.0 degrees Celsius = 32.0 degrees Fahrenheit\n",
      "8.0 degrees Celsius = 46.0 degrees Fahrenheit\n",
      "15.0 degrees Celsius = 59.0 degrees Fahrenheit\n",
      "22.0 degrees Celsius = 72.0 degrees Fahrenheit\n",
      "38.0 degrees Celsius = 100.0 degrees Fahrenheit\n"
     ]
    }
   ],
   "source": [
    "import tensorflow as tf\n",
    "import numpy as np\n",
    "import pandas as pd\n",
    "\n",
    "\n",
    "celsius_q    = np.array([-40, -10,  0,  8, 15, 22,  38],  dtype=float)\n",
    "fahrenheit_a = np.array([-40,  14, 32, 46, 59, 72, 100],  dtype=float)\n",
    "\n",
    "for i,c in enumerate(celsius_q):\n",
    "     print(\"{} degrees Celsius = {} degrees Fahrenheit\".format(c, fahrenheit_a[i]))"
   ]
  },
  {
   "cell_type": "code",
   "execution_count": 51,
   "id": "f256191f",
   "metadata": {},
   "outputs": [],
   "source": [
    "#Create the model\n",
    "\n",
    "#Step 1: Build the layers l0 and Assemble layers into  model\n",
    "\n",
    "model = tf.keras.Sequential([\n",
    "    tf.keras.layers.Dense(units=1, input_shape=[1])\n",
    "                            ])   \n"
   ]
  },
  {
   "cell_type": "code",
   "execution_count": 52,
   "id": "b448a82c",
   "metadata": {},
   "outputs": [],
   "source": [
    "#Step 2: Compile model with loss and optimizer functions\n",
    "\n",
    "model.compile(loss= 'mean_squared_error',optimizer = tf.keras.optimizers.Adam(0.1))\n",
    "    \n"
   ]
  },
  {
   "cell_type": "code",
   "execution_count": 53,
   "id": "b3e32810",
   "metadata": {},
   "outputs": [],
   "source": [
    "#Step 4: Train the model\n",
    "\n",
    "res = model.fit(celsius_q,fahrenheit_a,epochs=3000,verbose=False)\n",
    " "
   ]
  },
  {
   "cell_type": "code",
   "execution_count": 54,
   "id": "fa19a31a",
   "metadata": {},
   "outputs": [
    {
     "data": {
      "text/plain": [
       "array([[211.74744]], dtype=float32)"
      ]
     },
     "execution_count": 54,
     "metadata": {},
     "output_type": "execute_result"
    }
   ],
   "source": [
    "#Step 5; Predict the model\n",
    "model.predict([100.0])"
   ]
  },
  {
   "cell_type": "code",
   "execution_count": 55,
   "id": "3b2016a8",
   "metadata": {},
   "outputs": [
    {
     "name": "stdout",
     "output_type": "stream",
     "text": [
      "weights are: [array([[1.7979494]], dtype=float32), array([31.952497], dtype=float32)]\n"
     ]
    }
   ],
   "source": [
    "print(\"weights are: {}\".format(model.get_weights()))"
   ]
  },
  {
   "cell_type": "code",
   "execution_count": 57,
   "id": "78fc8e5b",
   "metadata": {},
   "outputs": [
    {
     "data": {
      "text/plain": [
       "[<matplotlib.lines.Line2D at 0x18fd9179e50>]"
      ]
     },
     "execution_count": 57,
     "metadata": {},
     "output_type": "execute_result"
    },
    {
     "data": {
      "image/png": "[encoded data removed]",
      "text/plain": [
       "<Figure size 432x288 with 1 Axes>"
      ]
     },
     "metadata": {
      "needs_background": "light"
     },
     "output_type": "display_data"
    }
   ],
   "source": [
    "#to check the statistics of the model\n",
    "\n",
    "import matplotlib.pyplot as plt\n",
    "plt.xlabel('Epoch Number')\n",
    "plt.ylabel(\"Loss Magnitude\")\n",
    "plt.plot(res.history['loss'])"
   ]
  },
  {
   "cell_type": "code",
   "execution_count": null,
   "id": "b0b29e88",
   "metadata": {},
   "outputs": [],
   "source": []
  },
  {
   "cell_type": "markdown",
   "id": "f7d68dda",
   "metadata": {},
   "source": [
    "# Complex model!"
   ]
  },
  {
   "cell_type": "code",
   "execution_count": 60,
   "id": "08472329",
   "metadata": {},
   "outputs": [],
   "source": [
    "l0 = tf.keras.layers.Dense(units=4, input_shape=[1])\n",
    "l1 = tf.keras.layers.Dense(units=4)\n",
    "l2 = tf.keras.layers.Dense(units=1)\n"
   ]
  },
  {
   "cell_type": "code",
   "execution_count": 61,
   "id": "03966d05",
   "metadata": {},
   "outputs": [
    {
     "name": "stdout",
     "output_type": "stream",
     "text": [
      "Finished training the model\n"
     ]
    }
   ],
   "source": [
    "\n",
    "model = tf.keras.Sequential([l0, l1, l2])\n",
    "model.compile(loss='mean_squared_error', optimizer=tf.keras.optimizers.Adam(0.1))\n",
    "model.fit(celsius_q, fahrenheit_a, epochs=500, verbose=False)\n",
    "print(\"Finished training the model\")\n",
    "\n"
   ]
  },
  {
   "cell_type": "code",
   "execution_count": 63,
   "id": "57b4758c",
   "metadata": {},
   "outputs": [
    {
     "name": "stdout",
     "output_type": "stream",
     "text": [
      "Predicted result is:[[211.74744]]\n"
     ]
    }
   ],
   "source": [
    "print(\"Predicted result is:{}\".format(model.predict([100.0])))\n"
   ]
  },
  {
   "cell_type": "code",
   "execution_count": 64,
   "id": "31b00942",
   "metadata": {},
   "outputs": [
    {
     "name": "stdout",
     "output_type": "stream",
     "text": [
      "Model predicts that 100 degrees Celsius is: [[211.74744]] degrees Fahrenheit\n",
      "These are the l0 variables: [array([[ 0.12465485, -0.15900818, -0.31939337,  0.5828184 ]],\n",
      "      dtype=float32), array([ 3.3478518, -3.1356113, -3.1968095,  3.4879446], dtype=float32)]\n",
      "These are the l1 variables: [array([[ 0.96241504,  0.9093777 , -0.870263  ,  0.49691272],\n",
      "       [-0.37876728,  0.00307768,  0.3495881 , -0.62288904],\n",
      "       [-0.46473262, -1.1273111 ,  0.8331695 ,  0.21831591],\n",
      "       [ 0.86624515,  0.968859  , -0.0204113 ,  0.32522225]],\n",
      "      dtype=float32), array([ 3.553594,  3.45176 , -3.492269,  2.7252  ], dtype=float32)]\n",
      "These are the l2 variables: [array([[ 0.5145231 ],\n",
      "       [ 0.91317666],\n",
      "       [-0.5079539 ],\n",
      "       [ 0.7016927 ]], dtype=float32), array([3.2799551], dtype=float32)]\n"
     ]
    }
   ],
   "source": [
    "print(\"Model predicts that 100 degrees Celsius is: {} degrees Fahrenheit\".format(model.predict([100.0])))\n",
    "print(\"These are the l0 variables: {}\".format(l0.get_weights()))\n",
    "print(\"These are the l1 variables: {}\".format(l1.get_weights()))\n",
    "print(\"These are the l2 variables: {}\".format(l2.get_weights()))\n",
    "\n"
   ]
  },
  {
   "cell_type": "code",
   "execution_count": 65,
   "id": "9b4aee0d",
   "metadata": {},
   "outputs": [
    {
     "data": {
      "text/plain": [
       "[<matplotlib.lines.Line2D at 0x18fda2e1310>]"
      ]
     },
     "execution_count": 65,
     "metadata": {},
     "output_type": "execute_result"
    },
    {
     "data": {
      "image/png": "[encoded data removed]",
      "text/plain": [
       "<Figure size 432x288 with 1 Axes>"
      ]
     },
     "metadata": {
      "needs_background": "light"
     },
     "output_type": "display_data"
    }
   ],
   "source": [
    "#to check the statistics of the model\n",
    "\n",
    "import matplotlib.pyplot as plt\n",
    "plt.xlabel('Epoch Number')\n",
    "plt.ylabel(\"Loss Magnitude\")\n",
    "plt.plot(res.history['loss'])"
   ]
  },
  {
   "cell_type": "code",
   "execution_count": null,
   "id": "03a2258e",
   "metadata": {},
   "outputs": [],
   "source": []
  }
 ],
 "metadata": {
  "kernelspec": {
   "display_name": "Python 3",
   "language": "python",
   "name": "python3"
  },
  "language_info": {
   "codemirror_mode": {
    "name": "ipython",
    "version": 3
   },
   "file_extension": ".py",
   "mimetype": "text/x-python",
   "name": "python",
   "nbconvert_exporter": "python",
   "pygments_lexer": "ipython3",
   "version": "3.8.8"
  }
 },
 "nbformat": 4,
 "nbformat_minor": 5
}
